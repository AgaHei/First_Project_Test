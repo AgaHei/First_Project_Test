{
 "cells": [
  {
   "cell_type": "markdown",
   "metadata": {},
   "source": [
    "# Build a quiz - Part 2"
   ]
  },
  {
   "cell_type": "markdown",
   "metadata": {},
   "source": [
    "Below is the code we wrote yesterday, that asks three questions to the user and allows up to 3 wrong answers :"
   ]
  },
  {
   "cell_type": "code",
   "execution_count": 4,
   "metadata": {},
   "outputs": [
    {
     "name": "stdout",
     "output_type": "stream",
     "text": [
      "Voici mon quiz, tu as trois chances !\n",
      "Dommage ! Il te reste 2 chances\n",
      "Dommage ! Il te reste 1 chances\n",
      "Bravo ! Tu as gagné le quiz !\n"
     ]
    }
   ],
   "source": [
    "nb_de_chances = 3\n",
    "\n",
    "print(\"Voici mon quiz, tu as trois chances !\")\n",
    "\n",
    "if nb_de_chances > 0:\n",
    "    question1= input(\"Qui était la première femme à gagner le Prix Nobel ? \")\n",
    "    while question1 != \"Marie Curie\":\n",
    "        nb_de_chances -= 1\n",
    "        print(\"Dommage ! Il te reste {} chances\".format(nb_de_chances))\n",
    "        if nb_de_chances == 0:\n",
    "            print(\"Oh non ! Tu as perdu le jeu...\")\n",
    "            break\n",
    "        question1 = input(\"Qui était la première femme à gagner le Prix Nobel ? \")\n",
    "\n",
    "if nb_de_chances > 0:\n",
    "    question2 = input(\"De quel pays venait-elle ? \")\n",
    "    while question2 != \"Pologne\":\n",
    "        nb_de_chances -=1\n",
    "        print(\"Dommage ! Il te reste {} chances\".format(nb_de_chances))\n",
    "        if nb_de_chances == 0:\n",
    "            print(\"Oh non ! Tu as perdu le jeu...\")\n",
    "            break\n",
    "        question2 = input(\"De quel pays venait-elle ? \")\n",
    "\n",
    "\n",
    "if nb_de_chances > 0:\n",
    "    question3 = input(\"Combien de fois a-t-elle reçu cette recompense ? \")\n",
    "    while question3 != \"2\":\n",
    "        nb_de_chances -=1\n",
    "        print(\"Dommage ! Il te reste {} chances\".format(nb_de_chances))\n",
    "        if nb_de_chances == 0:\n",
    "            print(\"Oh non ! Tu as perdu le jeu...\")\n",
    "            break\n",
    "        question3 = input(\"Combien de fois a-t-elle reçu cette recompense ? \")\n",
    "\n",
    "if nb_de_chances > 0:\n",
    "    print(\"Bravo ! Tu as gagné le quiz !\")\n"
   ]
  },
  {
   "cell_type": "markdown",
   "metadata": {},
   "source": [
    "Let's refactor our quiz now that we know how to be dry.\n",
    "\n",
    "SPECs: \n",
    "\n",
    "* Your code should be DRY \n",
    "* You should use functions "
   ]
  },
  {
   "cell_type": "code",
   "execution_count": 13,
   "metadata": {},
   "outputs": [
    {
     "name": "stdout",
     "output_type": "stream",
     "text": [
      "Voici mon quiz, tu as trois chances !\n",
      "\n",
      "Bonne réponse!\n",
      "\n",
      "Bonne réponse!\n",
      "\n",
      "Bonne réponse!\n",
      "\n",
      "Bravo ! Tu as gagné le quiz !\n"
     ]
    }
   ],
   "source": [
    "print(\"Voici mon quiz, tu as trois chances !\\n\")\n",
    "\n",
    "# Dictionary holding questions and answers\n",
    "quiz_questions = {\n",
    "    \"Qui était la première femme à gagner le Prix Nobel?\": \"Marie Curie\",\n",
    "    \"De quel pays venait-elle\": \"Pologne\",\n",
    "    \"Combien de fois a-t-elle reçu cette recompense?\": \"2\"\n",
    "}\n",
    "# Function holding the quiz and number of chances\n",
    "def run_quiz(questions, chances=3):\n",
    "    for question, correct_answer in questions.items():\n",
    "        while chances > 0:\n",
    "            user_answer = input(f\"{question}\\n\").strip()\n",
    "            \n",
    "            if user_answer.lower() == correct_answer.lower():\n",
    "                print(\"Bonne réponse!\\n\")\n",
    "                break  # Move to the next question\n",
    "            else:\n",
    "                chances -= 1\n",
    "                print(f\"Mauvaise réponse! Il te reste {chances} chances.\\n\")\n",
    "                \n",
    "            if chances == 0:\n",
    "                print(\"Game Over!\")\n",
    "                return\n",
    "            \n",
    "    print(\"Bravo ! Tu as gagné le quiz !\")\n",
    "\n",
    "# Run the quiz\n",
    "run_quiz(quiz_questions)"
   ]
  }
 ],
 "metadata": {
  "kernelspec": {
   "display_name": "base",
   "language": "python",
   "name": "python3"
  },
  "language_info": {
   "codemirror_mode": {
    "name": "ipython",
    "version": 3
   },
   "file_extension": ".py",
   "mimetype": "text/x-python",
   "name": "python",
   "nbconvert_exporter": "python",
   "pygments_lexer": "ipython3",
   "version": "3.12.7"
  },
  "orig_nbformat": 2
 },
 "nbformat": 4,
 "nbformat_minor": 2
}
